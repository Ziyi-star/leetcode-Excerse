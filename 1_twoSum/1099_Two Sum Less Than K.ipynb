{
 "cells": [
  {
   "cell_type": "code",
   "execution_count": 1,
   "id": "14d5e552",
   "metadata": {},
   "outputs": [
    {
     "data": {
      "text/html": [
       "<style>.container { width:85% !important; }</style>"
      ],
      "text/plain": [
       "<IPython.core.display.HTML object>"
      ]
     },
     "metadata": {},
     "output_type": "display_data"
    }
   ],
   "source": [
    "from IPython.display import display, HTML\n",
    "display(HTML(\"<style>.container { width:85% !important; }</style>\"))"
   ]
  },
  {
   "cell_type": "markdown",
   "id": "50f50948",
   "metadata": {},
   "source": [
    "Aufgabestellung: \n",
    "1099. Two Sum Less Than K\n",
    "Given an array A of integers and integer K, return the maximum S such that there exists i < j with A[i] + A[j] = S and S < K. If no i, j exist satisfying this equation, return -1.\n",
    "\n",
    "Example 1:\n",
    "\n",
    "Input: A = [34,23,1,24,75,33,54,8], K = 60\n",
    "Output: 58\n",
    "Explanation: \n",
    "We can use 34 and 24 to sum 58 which is less than 60.\n",
    "Example 2:\n",
    "\n",
    "Input: A = [10,20,30], K = 15\n",
    "Output: -1\n",
    "Explanation: \n",
    "In this case it's not possible to get a pair sum less that 15.\n",
    " \n",
    "\n",
    "Note:\n",
    "1 <= A.length <= 100\n",
    "1 <= A[i] <= 1000\n",
    "1 <= K <= 2000\n",
    "\n",
    "https://leetcode.ca/all/1099.html\n",
    "https://www.youtube.com/watch?v=2Uq7p7HE0TI\n"
   ]
  },
  {
   "cell_type": "code",
   "execution_count": null,
   "id": "e60f01b2",
   "metadata": {},
   "outputs": [],
   "source": []
  }
 ],
 "metadata": {
  "kernelspec": {
   "display_name": "Python 3 (ipykernel)",
   "language": "python",
   "name": "python3"
  },
  "language_info": {
   "codemirror_mode": {
    "name": "ipython",
    "version": 3
   },
   "file_extension": ".py",
   "mimetype": "text/x-python",
   "name": "python",
   "nbconvert_exporter": "python",
   "pygments_lexer": "ipython3",
   "version": "3.9.15"
  },
  "toc": {
   "base_numbering": 1,
   "nav_menu": {},
   "number_sections": true,
   "sideBar": true,
   "skip_h1_title": false,
   "title_cell": "Table of Contents",
   "title_sidebar": "Contents",
   "toc_cell": false,
   "toc_position": {},
   "toc_section_display": true,
   "toc_window_display": false
  }
 },
 "nbformat": 4,
 "nbformat_minor": 5
}
