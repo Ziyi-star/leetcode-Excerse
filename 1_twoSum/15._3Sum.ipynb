{
 "cells": [
  {
   "cell_type": "code",
   "execution_count": 20,
   "id": "62494c95",
   "metadata": {},
   "outputs": [
    {
     "data": {
      "text/html": [
       "<style>.container { width:85% !important; }</style>"
      ],
      "text/plain": [
       "<IPython.core.display.HTML object>"
      ]
     },
     "metadata": {},
     "output_type": "display_data"
    }
   ],
   "source": [
    "from IPython.display import display, HTML\n",
    "display(HTML(\"<style>.container { width:85% !important; }</style>\"))"
   ]
  },
  {
   "cell_type": "markdown",
   "id": "8b94dde4",
   "metadata": {},
   "source": [
    "Given an integer array nums, return all the triplets [nums[i], nums[j], nums[k]] such that i != j, i != k, and j != k, and nums[i] + nums[j] + nums[k] == 0.\n",
    "\n",
    "Notice that the solution set must not contain duplicate triplets.\n",
    "Example 1:\n",
    "\n",
    "Input: nums = [-1,0,1,2,-1,-4]\n",
    "Output: [[-1,-1,2],[-1,0,1]]\n",
    "Explanation: \n",
    "nums[0] + nums[1] + nums[2] = (-1) + 0 + 1 = 0.\n",
    "nums[1] + nums[2] + nums[4] = 0 + 1 + (-1) = 0.\n",
    "nums[0] + nums[3] + nums[4] = (-1) + 2 + (-1) = 0.\n",
    "The distinct triplets are [-1,0,1] and [-1,-1,2].\n",
    "Notice that the order of the output and the order of the triplets does not matter.\n",
    "\n",
    "Example 2:\n",
    "Input: nums = [0,1,1]\n",
    "Output: []\n",
    "Explanation: The only possible triplet does not sum up to 0.\n",
    "\n",
    "Example 3:\n",
    "Input: nums = [0,0,0]\n",
    "Output: [[0,0,0]]\n",
    "Explanation: The only possible triplet sums up to 0.\n",
    "\n",
    "https://www.youtube.com/watch?v=jzZsG8n2R9A\n",
    " \n",
    "\n",
    "Constraints:\n",
    "3 <= nums.length <= 3000\n",
    "-105 <= nums[i] <= 105"
   ]
  },
  {
   "cell_type": "code",
   "execution_count": 21,
   "id": "2c6b065d",
   "metadata": {},
   "outputs": [],
   "source": [
    "def threeSum_bruteForce(nums):\n",
    "    \"\"\"\n",
    "    :type nums: List[int]\n",
    "    :rtype: List[List[int]]\n",
    "    \"\"\"\n",
    "    n=len(nums)\n",
    "    for i in range(n-2):\n",
    "        for j in range(i+1,n-1):\n",
    "            for k in range(j+1,n):\n",
    "                if nums[i]+nums[j]+nums[k] == 0:\n",
    "                    return[nums[i], nums[j], nums[k]]\n",
    "    return[]\n",
    "        "
   ]
  },
  {
   "cell_type": "code",
   "execution_count": 22,
   "id": "e5e6efcd",
   "metadata": {},
   "outputs": [
    {
     "data": {
      "text/plain": [
       "[-1, 0, 1]"
      ]
     },
     "execution_count": 22,
     "metadata": {},
     "output_type": "execute_result"
    }
   ],
   "source": [
    "nums = [-1,0,1,2,-1,-4] \n",
    "threeSum_bruteForce(nums)"
   ]
  },
  {
   "cell_type": "code",
   "execution_count": 23,
   "id": "3cd8a992",
   "metadata": {},
   "outputs": [
    {
     "data": {
      "text/plain": [
       "[]"
      ]
     },
     "execution_count": 23,
     "metadata": {},
     "output_type": "execute_result"
    }
   ],
   "source": [
    "nums = [0,1,1] \n",
    "threeSum_bruteForce(nums)"
   ]
  },
  {
   "cell_type": "code",
   "execution_count": 48,
   "id": "107df713",
   "metadata": {},
   "outputs": [],
   "source": [
    "def threeSum_sort(nums):\n",
    "    \"\"\"\n",
    "    :type nums: List[int]\n",
    "    :rtype: List[List[int]]\n",
    "    \"\"\"\n",
    "    res = []\n",
    "    nums.sort()\n",
    "    print(nums)\n",
    "    for i, a in enumerate(nums):\n",
    "        print(i,a)\n",
    "        #is not the first value in the array and the same value as before, \n",
    "        #we do not want to use the same value twice\n",
    "        #outer loop\n",
    "        if i > 0 and a == nums[i-1]:\n",
    "            continue\n",
    "        l,r = i+1, len(nums)-1\n",
    "        while l<r:\n",
    "            threeSum = a + nums[l] + nums[r]\n",
    "            print('threesum:'+str(threeSum))\n",
    "            if threeSum > 0:\n",
    "                r -= 1\n",
    "            if threeSum < 0:\n",
    "                l += 1\n",
    "            if threeSum == 0:\n",
    "                res.append([a,nums[l],nums[r]])\n",
    "                print([a,nums[l],nums[r]])\n",
    "                l += 1\n",
    "                #keep shifting if two duplicates and left must be smaller than the right\n",
    "                while nums[l] == nums[l-1] and l < r:\n",
    "                    l+= 1\n",
    "    return res"
   ]
  },
  {
   "cell_type": "code",
   "execution_count": 49,
   "id": "a7e921b7",
   "metadata": {},
   "outputs": [
    {
     "name": "stdout",
     "output_type": "stream",
     "text": [
      "[-4, -1, -1, 0, 1, 2]\n",
      "0 -4\n",
      "threesum:-3\n",
      "threesum:-3\n",
      "threesum:-2\n",
      "threesum:-1\n",
      "1 -1\n",
      "threesum:0\n",
      "[-1, -1, 2]\n",
      "threesum:1\n",
      "threesum:0\n",
      "[-1, 0, 1]\n",
      "2 -1\n",
      "3 0\n",
      "threesum:3\n",
      "4 1\n",
      "5 2\n"
     ]
    },
    {
     "data": {
      "text/plain": [
       "[[-1, -1, 2], [-1, 0, 1]]"
      ]
     },
     "execution_count": 49,
     "metadata": {},
     "output_type": "execute_result"
    }
   ],
   "source": [
    "nums = [-1,0,1,2,-1,-4] \n",
    "threeSum_sort(nums)"
   ]
  },
  {
   "cell_type": "code",
   "execution_count": 50,
   "id": "96e755a6",
   "metadata": {},
   "outputs": [
    {
     "name": "stdout",
     "output_type": "stream",
     "text": [
      "[0, 1, 1]\n",
      "0 0\n",
      "threesum:2\n",
      "1 1\n",
      "2 1\n"
     ]
    },
    {
     "data": {
      "text/plain": [
       "[]"
      ]
     },
     "execution_count": 50,
     "metadata": {},
     "output_type": "execute_result"
    }
   ],
   "source": [
    "nums = [0,1,1] \n",
    "threeSum_sort(nums)"
   ]
  },
  {
   "cell_type": "code",
   "execution_count": null,
   "id": "33efd474",
   "metadata": {},
   "outputs": [],
   "source": []
  },
  {
   "cell_type": "code",
   "execution_count": null,
   "id": "944e5096",
   "metadata": {},
   "outputs": [],
   "source": []
  }
 ],
 "metadata": {
  "kernelspec": {
   "display_name": "Python 3 (ipykernel)",
   "language": "python",
   "name": "python3"
  },
  "language_info": {
   "codemirror_mode": {
    "name": "ipython",
    "version": 3
   },
   "file_extension": ".py",
   "mimetype": "text/x-python",
   "name": "python",
   "nbconvert_exporter": "python",
   "pygments_lexer": "ipython3",
   "version": "3.9.15"
  },
  "toc": {
   "base_numbering": 1,
   "nav_menu": {},
   "number_sections": true,
   "sideBar": true,
   "skip_h1_title": false,
   "title_cell": "Table of Contents",
   "title_sidebar": "Contents",
   "toc_cell": false,
   "toc_position": {},
   "toc_section_display": true,
   "toc_window_display": false
  }
 },
 "nbformat": 4,
 "nbformat_minor": 5
}
