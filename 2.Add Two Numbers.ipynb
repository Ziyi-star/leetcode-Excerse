{
 "cells": [
  {
   "attachments": {},
   "cell_type": "markdown",
   "id": "c2baf91e",
   "metadata": {},
   "source": [
    "https://leetcode.com/problems/add-two-numbers/description/\n",
    "You are given two non-empty linked lists representing two non-negative integers. The digits are stored in reverse order, and each of their nodes contains a single digit. Add the two numbers and return the sum as a linked list.\n",
    "\n",
    "You may assume the two numbers do not contain any leading zero, except the number 0 itself.\n"
   ]
  },
  {
   "cell_type": "code",
   "execution_count": 30,
   "id": "cdbad8f4",
   "metadata": {},
   "outputs": [],
   "source": [
    "#Definition for singly-linked list.\n",
    "class ListNode:\n",
    "    def __init__(self, val=0, next=None):\n",
    "        self.val = val\n",
    "        self.next = next\n",
    "        \n",
    "# Helper function to convert a list to a linked list\n",
    "def list_to_linked_list(lst):\n",
    "    dummy = ListNode()\n",
    "    current = dummy\n",
    "    for val in lst:\n",
    "        current.next = ListNode(val)\n",
    "        current = current.next\n",
    "    return dummy.next\n",
    "\n",
    "# Print the linked lists\n",
    "def print_linked_list(head):\n",
    "    while head:\n",
    "        print(head.val, end=\" \")\n",
    "        head = head.next\n",
    "    print(\"\\n\")"
   ]
  },
  {
   "cell_type": "code",
   "execution_count": 31,
   "id": "71a455c7",
   "metadata": {},
   "outputs": [],
   "source": [
    " def addTwoNumbers(l1, l2):\n",
    "        # Initialize a dummy node to simplify the handling of the result\n",
    "        dummy = ListNode()\n",
    "        # Initialize a pointer to the current node\n",
    "        cur = dummy\n",
    "\n",
    "        # Initialize the carry to 0\n",
    "        carry = 0\n",
    "\n",
    "        # Iterate through the linked lists or continue until carry is 0\n",
    "        while l1 or l2 or carry:\n",
    "            # Extract values from the current nodes or default to 0\n",
    "            v1 = l1.val if l1 else 0\n",
    "            v2 = l2.val if l2 else 0\n",
    "\n",
    "            # Calculate the sum and carry\n",
    "            val = v1 + v2 + carry\n",
    "            carry = val // 10\n",
    "            val = val % 10\n",
    "\n",
    "            # Create a new node with the calculated value\n",
    "            cur.next = ListNode(val)\n",
    "\n",
    "            # Update the pointers for the next iteration\n",
    "            cur = cur.next\n",
    "            l1 = l1.next if l1 else None\n",
    "            l2 = l2.next if l2 else None\n",
    "\n",
    "        # Return the result linked list, excluding the dummy node\n",
    "        return dummy.next"
   ]
  },
  {
   "cell_type": "code",
   "execution_count": 32,
   "id": "6acf9a5a",
   "metadata": {},
   "outputs": [
    {
     "name": "stdout",
     "output_type": "stream",
     "text": [
      "Linked List 1:\n",
      "2 4 3 \n",
      "\n",
      "Linked List 2:\n",
      "5 6 4 \n",
      "\n",
      "Linked List 3:\n",
      "7 0 8 \n",
      "\n"
     ]
    }
   ],
   "source": [
    "# Given lists\n",
    "l1 = [2, 4, 3]\n",
    "l2 = [5, 6, 4]\n",
    "\n",
    "# Convert lists to linked lists\n",
    "linked_list_l1 = list_to_linked_list(l1)\n",
    "linked_list_l2 = list_to_linked_list(l2)\n",
    "\n",
    "l3 = addTwoNumbers(linked_list_l1,linked_list_l2)\n",
    "\n",
    "\n",
    "print(\"Linked List 1:\")\n",
    "print_linked_list(linked_list_l1)\n",
    "\n",
    "print(\"Linked List 2:\")\n",
    "print_linked_list(linked_list_l2)\n",
    "\n",
    "print(\"Linked List 3:\")\n",
    "print_linked_list(l3)"
   ]
  },
  {
   "cell_type": "code",
   "execution_count": null,
   "id": "941aed61",
   "metadata": {},
   "outputs": [],
   "source": []
  }
 ],
 "metadata": {
  "kernelspec": {
   "display_name": "Python 3 (ipykernel)",
   "language": "python",
   "name": "python3"
  },
  "language_info": {
   "codemirror_mode": {
    "name": "ipython",
    "version": 3
   },
   "file_extension": ".py",
   "mimetype": "text/x-python",
   "name": "python",
   "nbconvert_exporter": "python",
   "pygments_lexer": "ipython3",
   "version": "3.9.13"
  }
 },
 "nbformat": 4,
 "nbformat_minor": 5
}
